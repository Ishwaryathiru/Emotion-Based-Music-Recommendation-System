{
 "cells": [
  {
   "cell_type": "code",
   "execution_count": 8,
   "id": "fd20708b-42c9-4438-bbc5-e96da072da95",
   "metadata": {},
   "outputs": [],
   "source": [
    "import tensorflow as tf\n",
    "import keras\n",
    "import os\n",
    "import cv2\n",
    "import random\n",
    "from tensorflow import keras\n",
    "from tensorflow.keras import layers\n",
    "import numpy as np"
   ]
  },
  {
   "cell_type": "code",
   "execution_count": 9,
   "id": "87f7c444-1ee6-43cd-90e7-571305d377fe",
   "metadata": {},
   "outputs": [],
   "source": [
    "datadirectory=\"train/\"\n",
    "classes=[\"0\",\"1\",\"2\",\"3\",\"4\",\"5\",\"6\"]"
   ]
  },
  {
   "cell_type": "code",
   "execution_count": 10,
   "id": "cb587ad5-3c3c-4f89-89fa-f4484caa2986",
   "metadata": {},
   "outputs": [
    {
     "name": "stdout",
     "output_type": "stream",
     "text": [
      "done\n"
     ]
    }
   ],
   "source": [
    "training_data=[]\n",
    "def create_training_data():\n",
    "    for i in classes:\n",
    "        path=os.path.join(datadirectory,i)\n",
    "        lable=classes.index(i)\n",
    "        # print(i)\n",
    "        for j in os.listdir(path):\n",
    "            try:\n",
    "                img_arr=cv2.imread(os.path.join(path,j))\n",
    "                new_arr=cv2.resize(img_arr,(224,224))\n",
    "                training_data.append([new_arr,lable])\n",
    "                # print(j)\n",
    "            except Exception as e:\n",
    "                print(e)\n",
    "    print(\"done\")\n",
    "create_training_data()"
   ]
  },
  {
   "cell_type": "code",
   "execution_count": 11,
   "id": "738ed9cf-ed4d-4806-8159-f155c01980d9",
   "metadata": {},
   "outputs": [],
   "source": [
    "import random\n",
    "random.shuffle(training_data)"
   ]
  },
  {
   "cell_type": "code",
   "execution_count": 12,
   "id": "9ed8ac51-cebf-440d-a9b8-5442f6a95d00",
   "metadata": {},
   "outputs": [],
   "source": [
    "x=[]\n",
    "y=[]\n",
    "for m,n in training_data:\n",
    "    x.append(m)\n",
    "    y.append(n)\n",
    "x=np.array(x).reshape(-1,224,224,3)"
   ]
  },
  {
   "cell_type": "code",
   "execution_count": 13,
   "id": "cf524986-d741-4277-9842-f0f0698d2aeb",
   "metadata": {},
   "outputs": [],
   "source": [
    "y = np.array(y)"
   ]
  },
  {
   "cell_type": "code",
   "execution_count": 14,
   "id": "50224005-92b8-4499-91d4-201da328fca5",
   "metadata": {},
   "outputs": [],
   "source": [
    "x=x/255.0"
   ]
  },
  {
   "cell_type": "code",
   "execution_count": 15,
   "id": "e0e7da3e-4755-4aff-bf9f-de2f4a365e76",
   "metadata": {},
   "outputs": [],
   "source": [
    "weights_path = \"mobilenet_v2_weights_tf_dim_ordering_tf_kernels_1.0_224.h5\"\n",
    "model = tf.keras.applications.MobileNetV2(weights=weights_path)"
   ]
  },
  {
   "cell_type": "code",
   "execution_count": 16,
   "id": "6eb6abb7-5117-4a84-80b6-8feb10636739",
   "metadata": {},
   "outputs": [],
   "source": [
    "base_input=model.input\n",
    "base_output=model.layers[-2].output"
   ]
  },
  {
   "cell_type": "code",
   "execution_count": 17,
   "id": "bb7d978b-56ff-4a5f-9620-9f06d8b9ed52",
   "metadata": {},
   "outputs": [],
   "source": [
    "final_output=layers.Dense(128)(base_output)\n",
    "final_output=layers.Activation('relu')(final_output)\n",
    "final_output=layers.Dense(64)(final_output)\n",
    "final_output=layers.Activation('relu')(final_output)\n",
    "final_output=layers.Dense(7,activation='softmax')(final_output)"
   ]
  },
  {
   "cell_type": "code",
   "execution_count": 18,
   "id": "482d6474-9802-42ad-aed9-279a42a9aad3",
   "metadata": {},
   "outputs": [],
   "source": [
    "new_model=keras.Model(inputs=base_input,outputs=final_output)"
   ]
  },
  {
   "cell_type": "code",
   "execution_count": 19,
   "id": "d6ea09d1-6130-4c76-a623-eb36e1d11f70",
   "metadata": {},
   "outputs": [],
   "source": [
    "new_model.compile(loss=\"sparse_categorical_crossentropy\", optimizer=\"adam\", metrics=[\"accuracy\"])"
   ]
  },
  {
   "cell_type": "code",
   "execution_count": 20,
   "id": "45572434-8282-4f41-b35e-f782403bcfb7",
   "metadata": {
    "scrolled": true
   },
   "outputs": [
    {
     "name": "stdout",
     "output_type": "stream",
     "text": [
      "Epoch 1/12\n",
      "\u001b[1m898/898\u001b[0m \u001b[32m━━━━━━━━━━━━━━━━━━━━\u001b[0m\u001b[37m\u001b[0m \u001b[1m1513s\u001b[0m 2s/step - accuracy: 0.4700 - loss: 1.3800\n",
      "Epoch 2/12\n",
      "\u001b[1m898/898\u001b[0m \u001b[32m━━━━━━━━━━━━━━━━━━━━\u001b[0m\u001b[37m\u001b[0m \u001b[1m1376s\u001b[0m 2s/step - accuracy: 0.6041 - loss: 1.0778\n",
      "Epoch 3/12\n",
      "\u001b[1m898/898\u001b[0m \u001b[32m━━━━━━━━━━━━━━━━━━━━\u001b[0m\u001b[37m\u001b[0m \u001b[1m1340s\u001b[0m 1s/step - accuracy: 0.6199 - loss: 1.0107\n",
      "Epoch 4/12\n",
      "\u001b[1m898/898\u001b[0m \u001b[32m━━━━━━━━━━━━━━━━━━━━\u001b[0m\u001b[37m\u001b[0m \u001b[1m1296s\u001b[0m 1s/step - accuracy: 0.6567 - loss: 0.9286\n",
      "Epoch 5/12\n",
      "\u001b[1m898/898\u001b[0m \u001b[32m━━━━━━━━━━━━━━━━━━━━\u001b[0m\u001b[37m\u001b[0m \u001b[1m1254s\u001b[0m 1s/step - accuracy: 0.6781 - loss: 0.8755\n",
      "Epoch 6/12\n",
      "\u001b[1m898/898\u001b[0m \u001b[32m━━━━━━━━━━━━━━━━━━━━\u001b[0m\u001b[37m\u001b[0m \u001b[1m1222s\u001b[0m 1s/step - accuracy: 0.7049 - loss: 0.8080\n",
      "Epoch 7/12\n",
      "\u001b[1m898/898\u001b[0m \u001b[32m━━━━━━━━━━━━━━━━━━━━\u001b[0m\u001b[37m\u001b[0m \u001b[1m24166s\u001b[0m 27s/step - accuracy: 0.7217 - loss: 0.7552\n",
      "Epoch 8/12\n",
      "\u001b[1m898/898\u001b[0m \u001b[32m━━━━━━━━━━━━━━━━━━━━\u001b[0m\u001b[37m\u001b[0m \u001b[1m1177s\u001b[0m 1s/step - accuracy: 0.7423 - loss: 0.6965\n",
      "Epoch 9/12\n",
      "\u001b[1m898/898\u001b[0m \u001b[32m━━━━━━━━━━━━━━━━━━━━\u001b[0m\u001b[37m\u001b[0m \u001b[1m1238s\u001b[0m 1s/step - accuracy: 0.7635 - loss: 0.6394\n",
      "Epoch 10/12\n",
      "\u001b[1m898/898\u001b[0m \u001b[32m━━━━━━━━━━━━━━━━━━━━\u001b[0m\u001b[37m\u001b[0m \u001b[1m1260s\u001b[0m 1s/step - accuracy: 0.7825 - loss: 0.6001\n",
      "Epoch 11/12\n",
      "\u001b[1m898/898\u001b[0m \u001b[32m━━━━━━━━━━━━━━━━━━━━\u001b[0m\u001b[37m\u001b[0m \u001b[1m1405s\u001b[0m 2s/step - accuracy: 0.7990 - loss: 0.5585\n",
      "Epoch 12/12\n",
      "\u001b[1m898/898\u001b[0m \u001b[32m━━━━━━━━━━━━━━━━━━━━\u001b[0m\u001b[37m\u001b[0m \u001b[1m1494s\u001b[0m 2s/step - accuracy: 0.8233 - loss: 0.4906\n"
     ]
    },
    {
     "data": {
      "text/plain": [
       "<keras.src.callbacks.history.History at 0x320137fd0>"
      ]
     },
     "execution_count": 20,
     "metadata": {},
     "output_type": "execute_result"
    }
   ],
   "source": [
    "new_model.fit(x, y, epochs=12)\n"
   ]
  },
  {
   "cell_type": "code",
   "execution_count": 21,
   "id": "41b758e2-6c97-47cf-b18f-856d6edcfe8d",
   "metadata": {},
   "outputs": [
    {
     "name": "stderr",
     "output_type": "stream",
     "text": [
      "WARNING:absl:You are saving your model as an HDF5 file via `model.save()` or `keras.saving.save_model(model)`. This file format is considered legacy. We recommend using instead the native Keras format, e.g. `model.save('my_model.keras')` or `keras.saving.save_model(model, 'my_model.keras')`. \n",
      "WARNING:absl:Compiled the loaded model, but the compiled metrics have yet to be built. `model.compile_metrics` will be empty until you train or evaluate the model.\n"
     ]
    }
   ],
   "source": [
    "new_model.save('final_model_ishu2.h5')\n",
    "new_model=tf.keras.models.load_model('final_model_ishu2.h5')"
   ]
  },
  {
   "cell_type": "code",
   "execution_count": null,
   "id": "e9707eaa-22b1-4ddc-9e89-60c5e3a422af",
   "metadata": {},
   "outputs": [],
   "source": []
  }
 ],
 "metadata": {
  "kernelspec": {
   "display_name": "Python 3 (ipykernel)",
   "language": "python",
   "name": "python3"
  },
  "language_info": {
   "codemirror_mode": {
    "name": "ipython",
    "version": 3
   },
   "file_extension": ".py",
   "mimetype": "text/x-python",
   "name": "python",
   "nbconvert_exporter": "python",
   "pygments_lexer": "ipython3",
   "version": "3.9.6"
  }
 },
 "nbformat": 4,
 "nbformat_minor": 5
}
