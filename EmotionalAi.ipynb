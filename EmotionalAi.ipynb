{
 "cells": [
  {
   "cell_type": "code",
   "execution_count": 9,
   "id": "fd20708b-42c9-4438-bbc5-e96da072da95",
   "metadata": {},
   "outputs": [],
   "source": [
    "import tensorflow as tf\n",
    "import keras\n",
    "import os\n",
    "import cv2\n",
    "import random\n",
    "from tensorflow import keras\n",
    "from tensorflow.keras import layers\n",
    "import numpy as np"
   ]
  },
  {
   "cell_type": "code",
   "execution_count": 10,
   "id": "87f7c444-1ee6-43cd-90e7-571305d377fe",
   "metadata": {},
   "outputs": [],
   "source": [
    "datadirectory=\"train/\"\n",
    "classes=[\"0\",\"1\",\"2\",\"3\",\"4\",\"5\",\"6\"]"
   ]
  },
  {
   "cell_type": "code",
   "execution_count": 11,
   "id": "cb587ad5-3c3c-4f89-89fa-f4484caa2986",
   "metadata": {},
   "outputs": [
    {
     "name": "stdout",
     "output_type": "stream",
     "text": [
      "done\n"
     ]
    }
   ],
   "source": [
    "training_data=[]\n",
    "def create_training_data():\n",
    "    for i in classes:\n",
    "        path=os.path.join(datadirectory,i)\n",
    "        lable=classes.index(i)\n",
    "        # print(i)\n",
    "        for j in os.listdir(path):\n",
    "            try:\n",
    "                img_arr=cv2.imread(os.path.join(path,j))\n",
    "                new_arr=cv2.resize(img_arr,(224,224))\n",
    "                training_data.append([new_arr,lable])\n",
    "                # print(j)\n",
    "            except Exception as e:\n",
    "                print(e)\n",
    "    print(\"done\")\n",
    "create_training_data()"
   ]
  },
  {
   "cell_type": "code",
   "execution_count": 12,
   "id": "738ed9cf-ed4d-4806-8159-f155c01980d9",
   "metadata": {},
   "outputs": [],
   "source": [
    "import random\n",
    "random.shuffle(training_data)"
   ]
  },
  {
   "cell_type": "code",
   "execution_count": 13,
   "id": "9ed8ac51-cebf-440d-a9b8-5442f6a95d00",
   "metadata": {},
   "outputs": [],
   "source": [
    "x=[]\n",
    "y=[]\n",
    "for m,n in training_data:\n",
    "    x.append(m)\n",
    "    y.append(n)\n",
    "x=np.array(x).reshape(-1,224,224,3)"
   ]
  },
  {
   "cell_type": "code",
   "execution_count": 14,
   "id": "cf524986-d741-4277-9842-f0f0698d2aeb",
   "metadata": {},
   "outputs": [],
   "source": [
    "y = np.array(y)"
   ]
  },
  {
   "cell_type": "code",
   "execution_count": 15,
   "id": "50224005-92b8-4499-91d4-201da328fca5",
   "metadata": {},
   "outputs": [],
   "source": [
    "x=x/255.0"
   ]
  },
  {
   "cell_type": "code",
   "execution_count": 16,
   "id": "e0e7da3e-4755-4aff-bf9f-de2f4a365e76",
   "metadata": {},
   "outputs": [],
   "source": [
    "weights_path = \"mobilenet_v2_weights_tf_dim_ordering_tf_kernels_1.0_224.h5\"\n",
    "model = tf.keras.applications.MobileNetV2(weights=weights_path)"
   ]
  },
  {
   "cell_type": "code",
   "execution_count": 17,
   "id": "6eb6abb7-5117-4a84-80b6-8feb10636739",
   "metadata": {},
   "outputs": [],
   "source": [
    "base_input=model.input\n",
    "base_output=model.layers[-2].output"
   ]
  },
  {
   "cell_type": "code",
   "execution_count": 18,
   "id": "bb7d978b-56ff-4a5f-9620-9f06d8b9ed52",
   "metadata": {},
   "outputs": [],
   "source": [
    "final_output=layers.Dense(128)(base_output)\n",
    "final_output=layers.Activation('relu')(final_output)\n",
    "final_output=layers.Dense(64)(final_output)\n",
    "final_output=layers.Activation('relu')(final_output)\n",
    "final_output=layers.Dense(7,activation='softmax')(final_output)"
   ]
  },
  {
   "cell_type": "code",
   "execution_count": 19,
   "id": "482d6474-9802-42ad-aed9-279a42a9aad3",
   "metadata": {},
   "outputs": [],
   "source": [
    "new_model=keras.Model(inputs=base_input,outputs=final_output)"
   ]
  },
  {
   "cell_type": "code",
   "execution_count": 20,
   "id": "d6ea09d1-6130-4c76-a623-eb36e1d11f70",
   "metadata": {},
   "outputs": [],
   "source": [
    "new_model.compile(loss=\"sparse_categorical_crossentropy\", optimizer=\"adam\", metrics=[\"accuracy\"])"
   ]
  },
  {
   "cell_type": "code",
   "execution_count": 21,
   "id": "45572434-8282-4f41-b35e-f782403bcfb7",
   "metadata": {
    "scrolled": true
   },
   "outputs": [
    {
     "name": "stdout",
     "output_type": "stream",
     "text": [
      "Epoch 1/8\n"
     ]
    },
    {
     "name": "stderr",
     "output_type": "stream",
     "text": [
      "2024-03-25 22:08:31.474316: W tensorflow/tsl/platform/profile_utils/cpu_utils.cc:128] Failed to get CPU frequency: 0 Hz\n"
     ]
    },
    {
     "name": "stdout",
     "output_type": "stream",
     "text": [
      "898/898 [==============================] - 1006s 1s/step - loss: 1.2585 - accuracy: 0.5205\n",
      "Epoch 2/8\n",
      "898/898 [==============================] - 1103s 1s/step - loss: 1.0691 - accuracy: 0.5985\n",
      "Epoch 3/8\n",
      "898/898 [==============================] - 1166s 1s/step - loss: 0.9981 - accuracy: 0.6259\n",
      "Epoch 4/8\n",
      "898/898 [==============================] - 1496s 2s/step - loss: 0.9447 - accuracy: 0.6464\n",
      "Epoch 5/8\n",
      "898/898 [==============================] - 3185s 4s/step - loss: 0.8867 - accuracy: 0.6736\n",
      "Epoch 6/8\n",
      "898/898 [==============================] - 12399s 14s/step - loss: 0.8395 - accuracy: 0.6905\n",
      "Epoch 7/8\n",
      "898/898 [==============================] - 908s 1s/step - loss: 0.7922 - accuracy: 0.7054\n",
      "Epoch 8/8\n",
      "898/898 [==============================] - 954s 1s/step - loss: 0.7364 - accuracy: 0.7295\n"
     ]
    },
    {
     "data": {
      "text/plain": [
       "<keras.callbacks.History at 0x17e1afbd0>"
      ]
     },
     "execution_count": 21,
     "metadata": {},
     "output_type": "execute_result"
    }
   ],
   "source": [
    "new_model.fit(x, y, epochs=8)\n"
   ]
  },
  {
   "cell_type": "code",
   "execution_count": 24,
   "id": "41b758e2-6c97-47cf-b18f-856d6edcfe8d",
   "metadata": {},
   "outputs": [],
   "source": [
    "new_model.save('final_model_ishu1.h5')\n",
    "new_model=tf.keras.models.load_model('final_model_ishu1.h5')"
   ]
  },
  {
   "cell_type": "code",
   "execution_count": null,
   "id": "e9707eaa-22b1-4ddc-9e89-60c5e3a422af",
   "metadata": {},
   "outputs": [],
   "source": []
  }
 ],
 "metadata": {
  "kernelspec": {
   "display_name": "Python 3 (ipykernel)",
   "language": "python",
   "name": "python3"
  },
  "language_info": {
   "codemirror_mode": {
    "name": "ipython",
    "version": 3
   },
   "file_extension": ".py",
   "mimetype": "text/x-python",
   "name": "python",
   "nbconvert_exporter": "python",
   "pygments_lexer": "ipython3",
   "version": "3.11.5"
  }
 },
 "nbformat": 4,
 "nbformat_minor": 5
}
